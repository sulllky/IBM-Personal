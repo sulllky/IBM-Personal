{
 "cells": [
  {
   "cell_type": "markdown",
   "id": "f302125d-c9c1-4115-a710-3d1036efb7f6",
   "metadata": {},
   "source": [
    "# Data Science Tools and Ecosystem"
   ]
  },
  {
   "cell_type": "markdown",
   "id": "be5f657b-3449-4780-ac90-30d450ac9892",
   "metadata": {},
   "source": [
    "In this notebook, Data Science Tools and Ecosystem are summarized."
   ]
  },
  {
   "cell_type": "markdown",
   "id": "155b6c3c-2646-43ed-a915-18094a2e5c62",
   "metadata": {},
   "source": [
    "__Objectives__\n",
    "* List popular languages for Data science\n",
    "* List popular libraries for Data science\n",
    "* List well known Data science tools"
   ]
  },
  {
   "cell_type": "markdown",
   "id": "703b28c2-ea67-4bc8-8cdc-ddaf64ab6c61",
   "metadata": {},
   "source": [
    "Some of the popular languages that Data Scientists use are:\n",
    "1. Python\n",
    "2. Java\n",
    "3. SQL\n",
    "4. C++\n",
    "5. Java"
   ]
  },
  {
   "cell_type": "markdown",
   "id": "35ca830c-b5d8-4b02-9bf3-f3f714f99f0a",
   "metadata": {},
   "source": [
    "Some of the commonly used libraries used by Data Scientists include: \n",
    "1. TensorFlow\n",
    "2. Matplotlib\n",
    "3. Pandas\n",
    "4. Numpy\n"
   ]
  },
  {
   "cell_type": "markdown",
   "id": "ec524b9b-9acc-445c-849f-6e1e9f7c76b1",
   "metadata": {},
   "source": [
    "|Data Science Tools|\n",
    "|---|\n",
    "|SAS|\n",
    "|Apache Hadoop|\n",
    "|TensorFlow|"
   ]
  },
  {
   "cell_type": "markdown",
   "id": "73cd8bdf-a732-4020-87ee-3a213ef25a95",
   "metadata": {},
   "source": [
    "### Below are a few examples of evaluating arithmetic expressions in Python "
   ]
  },
  {
   "cell_type": "code",
   "execution_count": 1,
   "id": "074a1b9b-a564-4e9e-b164-b9b3d5053495",
   "metadata": {},
   "outputs": [
    {
     "data": {
      "text/plain": [
       "17"
      ]
     },
     "execution_count": 1,
     "metadata": {},
     "output_type": "execute_result"
    }
   ],
   "source": [
    "#This a simple arithmetic expression to mutiply then add integers\n",
    "(3*4)+5"
   ]
  },
  {
   "cell_type": "code",
   "execution_count": 2,
   "id": "d631296d-8d3b-44da-ab79-6de3234db2c3",
   "metadata": {},
   "outputs": [
    {
     "data": {
      "text/plain": [
       "3.3333333333333335"
      ]
     },
     "execution_count": 2,
     "metadata": {},
     "output_type": "execute_result"
    }
   ],
   "source": [
    "#This will convert 200 minutes to hours by diving by 60\n",
    "200/60"
   ]
  },
  {
   "cell_type": "markdown",
   "id": "134b6db6-3ac3-47df-adec-da0cd1ce74b6",
   "metadata": {},
   "source": [
    "## Author\n",
    "Josh Carmichael"
   ]
  },
  {
   "cell_type": "code",
   "execution_count": null,
   "id": "b514e3b5-4a7c-4c9b-99fa-1566e873ba48",
   "metadata": {},
   "outputs": [],
   "source": []
  }
 ],
 "metadata": {
  "kernelspec": {
   "display_name": "Python 3 (ipykernel)",
   "language": "python",
   "name": "python3"
  },
  "language_info": {
   "codemirror_mode": {
    "name": "ipython",
    "version": 3
   },
   "file_extension": ".py",
   "mimetype": "text/x-python",
   "name": "python",
   "nbconvert_exporter": "python",
   "pygments_lexer": "ipython3",
   "version": "3.11.7"
  }
 },
 "nbformat": 4,
 "nbformat_minor": 5
}
